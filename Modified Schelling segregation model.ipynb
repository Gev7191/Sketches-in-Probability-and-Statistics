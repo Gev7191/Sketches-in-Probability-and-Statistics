{
 "cells": [
  {
   "cell_type": "markdown",
   "metadata": {},
   "source": [
    "## Modified Schelling segregation model"
   ]
  },
  {
   "cell_type": "markdown",
   "metadata": {},
   "source": [
    "In this post, we will model the famous Schelling segregation model modifying it to incorporate rare \"shock\" events during which the urban spatial organization changes drastically.\n",
    "\n",
    "After setting up a toy urban environment with three populations (each representative of which as a cell) and some empty lots randomly distributed in it, the strategy is as follows:\n",
    "\n",
    "At each iteration:\n",
    "\n",
    "   1. Sample a \"shock event\" from a fat-tailed lognormal distribution with $\\mu_{shock} = -2$ and $\\sigma_{shock} = 0.65$.\n",
    "   2. Sample a tolerance threshold from a normal distribution with $\\mu = 0.25$ and $\\sigma = 0.05$. \n",
    "   3. If a \"shock event\" (an event exceeding the 99th percentile of the lognormal distribution) has not been sampled, all urban       zones with a fraction of similar neighbours smaller than the tolerance threshold selected in step 2 relocate to empty           zones. If a \"shock event\" has been sampled, the tolerance range shifts to [0.9, 1), meaning that the zones suddenly             become very intolerant to dissimilar neighbors but also in case all neighbors are similar to them. All zones not in this       tolerance range relocate to empty zones.\n",
    " \n"
   ]
  },
  {
   "cell_type": "code",
   "execution_count": 6,
   "metadata": {},
   "outputs": [],
   "source": [
    "#import necessary libraries\n",
    "import numpy as np\n",
    "import pandas as pd\n",
    "from tqdm import tqdm_notebook\n",
    "from matplotlib import gridspec\n",
    "import pylab as plt\n",
    "from mpl_toolkits.axes_grid1.inset_locator import inset_axes"
   ]
  },
  {
   "cell_type": "code",
   "execution_count": 2,
   "metadata": {},
   "outputs": [
    {
     "data": {
      "image/png": "[encoded data removed]",
      "text/plain": [
       "<Figure size 432x288 with 1 Axes>"
      ]
     },
     "metadata": {
      "needs_background": "light"
     },
     "output_type": "display_data"
    }
   ],
   "source": [
    "#set up initial urban territory with three different populations in a proportion of 4/3/2\n",
    "mat = np.random.choice(4, 2601, p=[0.4, 0.3,0.2, 0.1]).reshape(51,51)\n",
    "plt.imshow(mat, cmap='BuPu')\n",
    "plt.show()"
   ]
  },
  {
   "cell_type": "code",
   "execution_count": 3,
   "metadata": {},
   "outputs": [],
   "source": [
    "# define functions for finding the neighbors of a given cell [i,j]\n",
    "\n",
    "# first level neighbors\n",
    "def neighbors_1(matrix, i, j):\n",
    "    m, n = matrix.shape\n",
    "    rows = [(i-1) % m, i, (i+1) % m]\n",
    "    cols = [(j-1) % n, j, (j+1) % n]\n",
    "    return [[rows[i], cols[j]] for i in range(3) for j in range(3) if ((i!=1)|(j!=1))]\n",
    "\n",
    "# second level neighbors\n",
    "def neighbors_2(matrix, i, j):\n",
    "    m, n = matrix.shape\n",
    "    rows = [(i-2) % m, (i-1) % m, i, (i+1) % m, (i+2) % m]\n",
    "    cols = [(j-2) % n, (j-1) % n, j, (j+1) % n, (j+2) % n]\n",
    "    return [[rows[i], cols[j]] for i in range(5) for j in range(5) if ((i!=2)|(j!=2))]"
   ]
  },
  {
   "cell_type": "code",
   "execution_count": 4,
   "metadata": {},
   "outputs": [
    {
     "data": {
      "image/png": "[encoded data removed]",
      "text/plain": [
       "<Figure size 432x288 with 1 Axes>"
      ]
     },
     "metadata": {
      "needs_background": "light"
     },
     "output_type": "display_data"
    }
   ],
   "source": [
    "# set up \"shock event\" distribution\n",
    "shock_event_dist = np.random.lognormal(-2, 0.65, 10000)\n",
    "plt.hist(shock_event_dist, bins=100)\n",
    "plt.show()"
   ]
  },
  {
   "cell_type": "code",
   "execution_count": 5,
   "metadata": {},
   "outputs": [
    {
     "data": {
      "image/png": "[encoded data removed]",
      "text/plain": [
       "<Figure size 432x288 with 1 Axes>"
      ]
     },
     "metadata": {
      "needs_background": "light"
     },
     "output_type": "display_data"
    }
   ],
   "source": [
    "# set up tolerance threshold distribution\n",
    "thresh_norm_dist = np.random.normal(0.35, 0.06, 10000)\n",
    "plt.hist(thresh_norm_dist, bins=100)\n",
    "plt.show()"
   ]
  },
  {
   "cell_type": "code",
   "execution_count": null,
   "metadata": {},
   "outputs": [],
   "source": [
    "#initialize list containing fraction of zones with fraction of similar neighbours exceeding threshold\n",
    "happies = [] \n",
    "\n",
    "# set simulation duration\n",
    "time = 500\n",
    "\n",
    "# set up horizontal line at 100% level for visual clarity in the plot\n",
    "time_array = np.arange(time)\n",
    "line_at_1 = np.array([100]*time)\n",
    "\n",
    "# start simulation\n",
    "for timestep in tqdm_notebook(range(time)):\n",
    "    #sample similarity tolerance threshold from the normal distribution\n",
    "    thresh_alike = random.choice(thresh_norm_dist)\n",
    "    \n",
    "    #identify coordinates of empty lots\n",
    "    empty_lots_rows = np.where(mat == 3)[0]\n",
    "    empty_lots_cols = np.where(mat == 3)[1]\n",
    "    \n",
    "    #number of empty lots\n",
    "    empty_lots_num = (mat == 3).sum()\n",
    "    \n",
    "    #initialize list containing coordinates of zones with fraction of similar neighbours not exceeding threshold \n",
    "    unhappy_zone_coords = []\n",
    "    \n",
    "    # initialize counter for happy zones\n",
    "    happy_zones = 0\n",
    "    \n",
    "    # sample the rare event\n",
    "    sudden_thresh = random.choice(shock_event_dist) \n",
    "    \n",
    "    #iterate over zones\n",
    "    for i in range(51):\n",
    "        for j in range(51):\n",
    "            \n",
    "            # initialize counters for similar neighbors and the total number of neighbors\n",
    "            neighs_alike = 0\n",
    "            neigh_total = 0\n",
    "            \n",
    "            # make sure to skip empty lots\n",
    "            if mat[i,j]!=3:\n",
    "                \n",
    "                # find the neighbors of [i,j]\n",
    "                neighs_ij = neighbors_2(mat, i, j)\n",
    "                \n",
    "                #compute number of similar neighbors and the total number of \n",
    "                #neighbors of [i,j] by iterating through its neighbors\n",
    "                for neigh in neighs_ij:\n",
    "                    if mat[i,j] == mat[neigh[0], neigh[1]]:\n",
    "                        neighs_alike += 1\n",
    "                    if mat[neigh[0], neigh[1]] != 3:\n",
    "                        neigh_total += 1\n",
    "                        \n",
    "                # sample rare event - if sampled non-rare event, then proceed as usual\n",
    "                if sudden_thresh < np.percentile(s, 99):\n",
    "                    if true_divide(neighs_alike, neigh_total) > thresh_alike:\n",
    "                        happy_zones += 1\n",
    "                    else:\n",
    "                        unhappy_zone_coords.append([i,j])\n",
    "                        \n",
    "                #else simulate 'shock' by making many zones unhappy\n",
    "                else:\n",
    "                    if (true_divide(neighs_alike, neigh_total) > 0.7) and (true_divide(neighs_alike, neigh_total) < 1):\n",
    "                        happy_zones += 1\n",
    "                    else:\n",
    "                        unhappy_zone_coords.append([i,j])\n",
    "                \n",
    "    happies.append(100*happy_zones/(mat != 3).sum())\n",
    "    \n",
    "    #start plotting\n",
    "    fig = plt.figure(figsize=(14,8), dpi=72)\n",
    "\n",
    "    ax1=fig.add_subplot(221)\n",
    "    ax1.set_title('Urban territory')\n",
    "    ax1.imshow(mat, cmap='BuPu')\n",
    "\n",
    "    ax2 = fig.add_subplot(222)\n",
    "    ax2.set_title('Schelling segregation')\n",
    "    ax2.plot(np.arange(timestep+1), happies, color='darkslateblue', marker='o', markersize=0.5, linewidth=1)\n",
    "    ax2.plot(time_array,line_at_1, color='red', linestyle='--', linewidth=1)\n",
    "    \n",
    "    ins = ax2.inset_axes([0.55,0.15,0.4,0.4])\n",
    "    ins.patch.set_alpha(0.1)\n",
    "    \n",
    "    n, bins, patches = ins.hist(s, 100, density=True, alpha=0.7 ,color='lightsteelblue')\n",
    "    ins.scatter([sudden_thresh], [0], color='r', alpha=0.5, s=60, zorder=10)\n",
    "    \n",
    "    ins.set_xlim(0,1.6)\n",
    "    ins.set_xticks([0,0.5,1])\n",
    "    \n",
    "    ins.spines['right'].set_visible(False)\n",
    "    ins.spines['top'].set_visible(False)\n",
    "    ins.spines['left'].set_visible(False)\n",
    "    ins.spines['bottom'].set_visible(False)\n",
    "    ins.get_yaxis().set_ticks([])\n",
    "    ins.tick_params(axis='x', colors='slategrey', labelsize=7)\n",
    "    ins.tick_params(axis='y', colors='slategrey', labelsize=7)\n",
    "    \n",
    "    plt.xlabel('Time')\n",
    "    plt.ylabel('% with similar neighbors')    \n",
    "    plt.grid(axis='y', alpha=0.5)\n",
    "    plt.xlim(0,500)\n",
    "    plt.ylim(0,110)\n",
    "    plt.tight_layout()\n",
    "    fig.savefig('../Schelling/sch_{}.png'.format(timestep), dpi=fig.dpi)\n",
    "    plt.show() \n",
    "    \n",
    "    #shuffle unhappy zones to relocate them randomly\n",
    "    np.random.shuffle(unhappy_zone_coords)\n",
    "    \n",
    "    #iterate through unhappy zones and change their location to an empty lot\n",
    "    for unhappy_zone in unhappy_zone_coords:\n",
    "        empty_lots_rows = np.where(mat == 3)[0]\n",
    "        empty_lots_cols = np.where(mat == 3)[1]\n",
    "        empty_lots_num = (mat == 3).sum()\n",
    "        if empty_lots_num>0:\n",
    "            rand_choice = random.choice(np.arange(empty_lots_num))\n",
    "            mat[np.where(mat == 3)[0][rand_choice],np.where(mat == 3)[1][rand_choice]] = mat[unhappy_zone[0], unhappy_zone[1]]\n",
    "            mat[unhappy_zone[0], unhappy_zone[1]] = 3\n",
    "        empty_lots_num -= 1\n",
    "    "
   ]
  },
  {
   "cell_type": "code",
   "execution_count": null,
   "metadata": {},
   "outputs": [],
   "source": [
    "import re\n",
    "def nice_sort( l ):\n",
    "    \"\"\" Sorts filenames in a directory.\n",
    " \n",
    "    Required arguments:\n",
    "    l -- iterable containing file names\n",
    " \n",
    "    \"\"\"\n",
    "    convert = lambda text: int(text) if text.isdigit() else text\n",
    "    alphanum_key = lambda key: [convert(c) for c in re.split('([0-9]+)', key)]\n",
    "    return sorted(l, key = alphanum_key)\n",
    "\n",
    "from os import listdir\n",
    "filenames = listdir('../Schelling/')\n",
    "filenames = sorted_nicely(filenames)\n",
    "filenames"
   ]
  },
  {
   "cell_type": "code",
   "execution_count": null,
   "metadata": {},
   "outputs": [],
   "source": [
    "# make gif\n",
    "import imageio\n",
    "with imageio.get_writer('Schelling_1.gif', mode='I',fps=14) as writer:\n",
    "    for filename in tqdm_notebook(filenames):\n",
    "        image = imageio.imread('../Schelling/{}'.format(filename))\n",
    "        writer.append_data(image)"
   ]
  }
 ],
 "metadata": {
  "kernelspec": {
   "display_name": "Python 3",
   "language": "python",
   "name": "python3"
  },
  "language_info": {
   "codemirror_mode": {
    "name": "ipython",
    "version": 3
   },
   "file_extension": ".py",
   "mimetype": "text/x-python",
   "name": "python",
   "nbconvert_exporter": "python",
   "pygments_lexer": "ipython3",
   "version": "3.7.3"
  }
 },
 "nbformat": 4,
 "nbformat_minor": 2
}
